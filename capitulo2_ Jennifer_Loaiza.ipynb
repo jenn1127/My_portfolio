{
 "cells": [
  {
   "cell_type": "markdown",
   "metadata": {},
   "source": [
    "# **Capitulo 2 - Jennfier Paola Loaiza Rada GRUPO 1**"
   ]
  },
  {
   "cell_type": "markdown",
   "metadata": {},
   "source": [
    "<p> Ejericicos <p>\n",
    "\n",
    "<p> 1. Hacer un diagnostico general de la calidad de los datos basados en datos duplicados, campos vacío, y datos por fuera de parámetros normales del negocio<p>\n",
    "\n",
    "<p> 2. Establece las diferencias básicas entre modelo porbabilísticos y derterminísticos <p>\n"
   ]
  },
  {
   "cell_type": "markdown",
   "metadata": {},
   "source": [
    "<p> Se importa la libreía necesaria y se carga la base de datos para comenzar con el análisis de la calidad de los datos <p>"
   ]
  },
  {
   "cell_type": "code",
   "execution_count": 1,
   "metadata": {},
   "outputs": [],
   "source": [
    "# Importación de la libería necesaria para el análsis descriptivo\n",
    "from matplotlib.ticker import FuncFormatter\n",
    "from tabulate import tabulate\n",
    "import matplotlib.colors as mcolors\n",
    "import matplotlib.pyplot as plt \n",
    "import numpy as np \n",
    "import pandas as pd \n",
    "import seaborn as sns"
   ]
  },
  {
   "cell_type": "code",
   "execution_count": 2,
   "metadata": {},
   "outputs": [],
   "source": [
    "# Importación de la base de datos CottonPLus Inc\n",
    "\n",
    "def data_import(url):\n",
    "    \"\"\" \n",
    "     Descripción:\n",
    "            - Esta función lee la base de datos  \n",
    "    \n",
    "        inputs:\n",
    "            - url: string -------> Esta es el string que lee la dirección donde se ubica la base de datos\n",
    "        ouputs:\n",
    "            - data: float ----> esta variable importa la base de datos                         \n",
    "    \"\"\"\n",
    "    data = pd.read_excel(url, na_values=['', 'NA', 'N/A', 'NaN', 'null', 'nan']) # Importación de la base de datos\n",
    "    return data\n",
    "\n",
    "data = data_import('./data_cotton_plus.xlsx') #Aplicación de la función\n"
   ]
  },
  {
   "cell_type": "markdown",
   "metadata": {},
   "source": [
    "### ***Datos duplicados***"
   ]
  },
  {
   "cell_type": "markdown",
   "metadata": {},
   "source": [
    "<p> Con los datos duplicos, no se detecta ninguna presencia de estos en el conjunto de datos, lo que indica que cada individuo es único en sí mismo. No obstante, al eliminar las variables de información personal, como dirección, correo electrónico, cédula, dirección de residencia, fecha de cumpleaños, entre otros, se identificaron 54 registros duplicados en el conjunto de datos. Por lo tanto, se ha decidido no eliminar ninguno de estos registros, ya que no se ha encontrado evidencia concluyente de datos duplicados. <p>"
   ]
  },
  {
   "cell_type": "code",
   "execution_count": 3,
   "metadata": {},
   "outputs": [
    {
     "name": "stdout",
     "output_type": "stream",
     "text": [
      "La cantidad de duplicado en la base de datos es de: 0\n"
     ]
    }
   ],
   "source": [
    "duplicados = data[data.duplicated()] # Datos duplicados\n",
    "\n",
    "cantidad_de_duplicados = len(duplicados) # Cantidad de datos duplicados \n",
    "\n",
    "print(f'La cantidad de duplicado en la base de datos es de: {cantidad_de_duplicados}') # Impresión del número de datos duplicados"
   ]
  },
  {
   "cell_type": "code",
   "execution_count": 4,
   "metadata": {},
   "outputs": [
    {
     "name": "stdout",
     "output_type": "stream",
     "text": [
      "La cantidad de duplicado en la base de datos es de: 54\n"
     ]
    }
   ],
   "source": [
    "#Duplicado eliminando las columnas que contengan información personal \n",
    "\n",
    "data = data.drop(columns= ['Nombre Completo','Mail', 'Direccion', 'Cedula', 'Direccion Valido?', 'Mail Valido?', \\\n",
    "                        'TelefonoOficina', 'Telefono Movil', 'Tel Casa Valido?', 'Cel Valido?', 'Tel Ofc Valid?', \\\n",
    "                        'Telefono Casa', 'Tipo de Contacto', 'Mes Nacimiento', 'Dia Nacimiento', 'Fecha Nacimiento' ])\n",
    "\n",
    "duplicados_sin_info_personal = data[data.duplicated()] # Datos duplicados\n",
    "\n",
    "cantidad_duplicados_sin_info_personal = len(duplicados_sin_info_personal) # Cantidad de datos duplicados \n",
    "\n",
    "print(f'La cantidad de duplicado en la base de datos es de: {cantidad_duplicados_sin_info_personal}') # Impresión del número de datos duplicados"
   ]
  },
  {
   "cell_type": "markdown",
   "metadata": {},
   "source": [
    "### ***Campos vacíos***"
   ]
  },
  {
   "cell_type": "markdown",
   "metadata": {},
   "source": [
    "Al cargar la base de datos establece que los valores vacíos o <em>'NA', 'N/A', 'NaN', 'null', 'nan'</em> sean nulos. Al realizar la sumatoria de los valores nulos, no se encuentran presencia en ninguna de las variables. "
   ]
  },
  {
   "cell_type": "code",
   "execution_count": 5,
   "metadata": {},
   "outputs": [
    {
     "data": {
      "text/plain": [
       "Segmento                                                            0\n",
       "Compro 2019?                                                        0\n",
       "Compro 2020?                                                        0\n",
       "Monto Comprado 2019?                                                0\n",
       "Nro Transacciones 2019                                              0\n",
       "Monto Comprado 2020                                                 0\n",
       "Nro Transacciones 2020                                              0\n",
       "Es Contactable                                                      0\n",
       "Ciudad de Residencia                                                0\n",
       "Genero                                                              0\n",
       "Estado Civil                                                        0\n",
       "Edad                                                                0\n",
       "Monto Total de ultima compra                                        0\n",
       "Cantidad Articulos                                                  0\n",
       "Recencia (Tiempo transcurrido en semanas desde su ultima compra)    0\n",
       "Frecuencia (Cantidad items comprados)                               0\n",
       "Monto - MARCA COTTON- B/quilla.                                     0\n",
       "Monto - Brand Store Cucuta                                          0\n",
       "Monto - MARCA COTTON- Bucaramanga                                   0\n",
       "Monto - MARCA COTTON- Manizales                                     0\n",
       "Monto - MARCA COTTON- Pereira                                       0\n",
       "Monto - MARCA COTTON- Cartagena                                     0\n",
       "Monto - MARCA COTTON- Pasto                                         0\n",
       "Monto - MARCA COTTON- Cable Plaza                                   0\n",
       "dtype: int64"
      ]
     },
     "execution_count": 5,
     "metadata": {},
     "output_type": "execute_result"
    }
   ],
   "source": [
    "# Datos vacios \n",
    "\n",
    "campos_vacios = data.isnull().sum()\n",
    "\n",
    "campos_vacios"
   ]
  },
  {
   "cell_type": "markdown",
   "metadata": {},
   "source": [
    "### ***Datos atípicos***"
   ]
  },
  {
   "cell_type": "markdown",
   "metadata": {},
   "source": [
    "<p> En el capítulo 1, se identificaron algunas variables con comportamientos inusuales, particularmente en el caso de las edades, el monto total de la última compra y el tiempo transcurrido desde la última compra. Para evaluar la presencia de valores atípicos en estas variables, se construyeron gráficos de caja y bigotes para cada una de ellas, examinando los cuartiles. <p>\n",
    "\n",
    "<p> En los tres gráficos se observó la existencia de datos atípicos, destacándose especialmente en el caso del monto de la última compra, que incluye valores de clientes que han realizado compras de hasta 30 millones, mientras que el promedio y la mediana se sitúan en 590,206 y 303,700, respectivamente.<p>\n",
    "\n",
    "<p> Asimismo, se notó un incremento significativo en las edades de los clientes por encima de los 100 años, lo cual es importante normalizar estos datos debido a que se busca caracterizar a los clientes. <p>\n",
    "\n",
    "<p> Por último, en cuanto a las semanas transcurridas desde la última compra, se observó una disminución marcada en la semana 11, lo que resultó en varios datos que se encontraban fuera del rango intercuartílico del gráfico de caja y bigotes. <p>\n",
    "\n",
    "<p> Para abordar esta problemática, se optó por calcular los cuartiles 25 y 75 con el fin de obtener el rango intercuartílico y, a partir de este, determinar los límites superior e inferior para identificar los datos atípicos. Los cálculos revelaron que para las variables de edades, monto total y tiempo transcurrido, los datos atípicos representaban el 10.6%, 8.4% y 2.7% de la muestra, respectivamente. <p>\n",
    "\n",
    "$$ IQR = Q3 + Q1$$\n",
    "$$Limite_superior = Q1 - 1.5 * IQR$$\n",
    "$$Limite_inferior = Q3 + 1.5 * IQR$$\n",
    "\n",
    "<p> Una vez identificados los valores atípicos, se decidió reemplazarlos por los valores correspondientes de los límites superior o inferior, en lugar de utilizar la media o la mediana, ya que la mayoría de los valores eran considerablemente altos y su sustitución con medidas centrales podría distorsionar los resultados, especialmente cuando los datos atípicos representan casi el 10% de la muestra. <p>\n",
    "\n",
    "<p> Posteriormente, se generaron nuevamente gráficos de caja y bigotes para las variables después de realizar las modificaciones, y se observó que ya no había presencia de valores atípicos, ya que todos los datos se encontraban en su mayoría dentro del rango intercuartílico. <p>\n",
    "\n",
    "<p> En resumen, se llevó a cabo una limpieza exhaustiva de la base de datos, preparándola para un análisis tanto probabilístico como determinístico. <p>"
   ]
  },
  {
   "cell_type": "code",
   "execution_count": 6,
   "metadata": {},
   "outputs": [
    {
     "data": {
      "text/plain": [
       "Text(0.5, 1.0, 'Caja y bigotes de la recencia de los clientes')"
      ]
     },
     "execution_count": 6,
     "metadata": {},
     "output_type": "execute_result"
    },
    {
     "data": {
      "image/png": "[encoded data removed]",
      "text/plain": [
       "<Figure size 1400x700 with 3 Axes>"
      ]
     },
     "metadata": {},
     "output_type": "display_data"
    }
   ],
   "source": [
    "fig = plt.figure(figsize=(14,7))\n",
    "\n",
    "# Caja y bigotes de la edad \n",
    "plt.subplot(1, 3, 1)\n",
    "box_1 = plt.boxplot(data['Edad'])\n",
    "plt.title('Caja y bigotes de las edades de los clientes', fontsize=7, fontweight='bold')\n",
    "\n",
    "# Caja y bigotes del moto total de la última compra\n",
    "plt.subplot(1, 3, 2)\n",
    "plt.boxplot(data['Monto Total de ultima compra'])\n",
    "plt.title('Caja y bigotes de la última compra de los clientes', fontsize=7, fontweight='bold')\n",
    "\n",
    "# Caja y bigotes del tiempo transcurrido en semanas desde la última compra\n",
    "plt.subplot(1, 3, 3)\n",
    "plt.boxplot(data['Recencia (Tiempo transcurrido en semanas desde su ultima compra)'])\n",
    "plt.title('Caja y bigotes de la recencia de los clientes', fontsize=7, fontweight='bold')\n"
   ]
  },
  {
   "cell_type": "code",
   "execution_count": 7,
   "metadata": {},
   "outputs": [
    {
     "name": "stdout",
     "output_type": "stream",
     "text": [
      "Porcentaje de datos atípicos de la edad: 10.65%\n"
     ]
    },
    {
     "name": "stderr",
     "output_type": "stream",
     "text": [
      "C:\\Users\\Jennifer\\AppData\\Local\\Temp\\ipykernel_18608\\2952678955.py:21: SettingWithCopyWarning: \n",
      "A value is trying to be set on a copy of a slice from a DataFrame.\n",
      "Try using .loc[row_indexer,col_indexer] = value instead\n",
      "\n",
      "See the caveats in the documentation: https://pandas.pydata.org/pandas-docs/stable/user_guide/indexing.html#returning-a-view-versus-a-copy\n",
      "  data_1['edad'] = np.clip(data_1['edad'], limite_inferior, limite_superior)\n"
     ]
    }
   ],
   "source": [
    "data_1 = data[['Edad', 'Monto Total de ultima compra','Recencia (Tiempo transcurrido en semanas desde su ultima compra)']]\n",
    "data_1.columns = ['edad', 'monto_total', 'recencia']\n",
    "\n",
    "# Calcular el IQR (rango intercuartil) de la edad\n",
    "Q1 = data_1['edad'].quantile(0.25)\n",
    "Q3 = data_1['edad'].quantile(0.75)\n",
    "IQR = Q3 - Q1\n",
    "\n",
    "# Definir límites para identificar valores atípicos\n",
    "limite_inferior = Q1 - 1.5 * IQR\n",
    "limite_superior = Q3 + 1.5 * IQR\n",
    "\n",
    "# Identificar valores atípicos\n",
    "valores_atipicos = data_1[(data_1['edad'] < limite_inferior) | (data_1['edad'] > limite_superior)]\n",
    "\n",
    "# Calcular el porcentaje de valores atípicos\n",
    "porcentaje_atipicos_edad = (len(valores_atipicos) / len(data_1['edad'])) * 100\n",
    "\n",
    "print(f\"Porcentaje de datos atípicos de la edad: {porcentaje_atipicos_edad:.2f}%\")\n",
    "\n",
    "data_1['edad'] = np.clip(data_1['edad'], limite_inferior, limite_superior)\n",
    "\n"
   ]
  },
  {
   "cell_type": "code",
   "execution_count": 8,
   "metadata": {},
   "outputs": [
    {
     "name": "stdout",
     "output_type": "stream",
     "text": [
      "Porcentaje de datos atípicos del monto total: 8.94%\n"
     ]
    },
    {
     "name": "stderr",
     "output_type": "stream",
     "text": [
      "C:\\Users\\Jennifer\\AppData\\Local\\Temp\\ipykernel_18608\\2934625352.py:18: SettingWithCopyWarning: \n",
      "A value is trying to be set on a copy of a slice from a DataFrame.\n",
      "Try using .loc[row_indexer,col_indexer] = value instead\n",
      "\n",
      "See the caveats in the documentation: https://pandas.pydata.org/pandas-docs/stable/user_guide/indexing.html#returning-a-view-versus-a-copy\n",
      "  data_1['monto_total'] = np.clip(data_1['monto_total'], limite_inferior, limite_superior)\n"
     ]
    }
   ],
   "source": [
    "# Calcular el IQR (rango intercuartil) del monto\n",
    "Q1 = data_1['monto_total'].quantile(0.25)\n",
    "Q3 = data_1['monto_total'].quantile(0.75)\n",
    "IQR = Q3 - Q1\n",
    "\n",
    "# Definir límites para identificar valores atípicos\n",
    "limite_inferior = Q1 - 1.5 * IQR\n",
    "limite_superior = Q3 + 1.5 * IQR\n",
    "\n",
    "# Identificar valores atípicos\n",
    "valores_atipicos = data_1[(data_1['monto_total'] < limite_inferior) | (data_1['monto_total'] > limite_superior)]\n",
    "\n",
    "# Calcular el porcentaje de valores atípicos\n",
    "porcentaje_atipicos_monto = (len(valores_atipicos) / len(data_1['monto_total'])) * 100\n",
    "\n",
    "print(f\"Porcentaje de datos atípicos del monto total: {porcentaje_atipicos_monto:.2f}%\")\n",
    "\n",
    "data_1['monto_total'] = np.clip(data_1['monto_total'], limite_inferior, limite_superior)"
   ]
  },
  {
   "cell_type": "code",
   "execution_count": 9,
   "metadata": {},
   "outputs": [
    {
     "name": "stdout",
     "output_type": "stream",
     "text": [
      "Porcentaje de datos atípicos de la recencia: 2.78%\n"
     ]
    },
    {
     "name": "stderr",
     "output_type": "stream",
     "text": [
      "C:\\Users\\Jennifer\\AppData\\Local\\Temp\\ipykernel_18608\\301080449.py:18: SettingWithCopyWarning: \n",
      "A value is trying to be set on a copy of a slice from a DataFrame.\n",
      "Try using .loc[row_indexer,col_indexer] = value instead\n",
      "\n",
      "See the caveats in the documentation: https://pandas.pydata.org/pandas-docs/stable/user_guide/indexing.html#returning-a-view-versus-a-copy\n",
      "  data_1['recencia'] = np.clip(data_1['recencia'], limite_inferior, limite_superior)\n"
     ]
    }
   ],
   "source": [
    "# Calcular el IQR (rango intercuartil)\n",
    "Q1 = data_1['recencia'].quantile(0.25)\n",
    "Q3 = data_1['recencia'].quantile(0.75)\n",
    "IQR = Q3 - Q1\n",
    "\n",
    "# Definir límites para identificar valores atípicos\n",
    "limite_inferior = Q1 - 1.5 * IQR\n",
    "limite_superior = Q3 + 1.5 * IQR\n",
    "\n",
    "# Identificar valores atípicos\n",
    "valores_atipicos = data_1[(data_1['recencia'] < limite_inferior) | (data_1['recencia'] > limite_superior)]\n",
    "\n",
    "# Calcular el porcentaje de valores atípicos\n",
    "porcentaje_atipicos_recencia = (len(valores_atipicos) / len(data_1['recencia'])) * 100\n",
    "\n",
    "print(f\"Porcentaje de datos atípicos de la recencia: {porcentaje_atipicos_recencia:.2f}%\")\n",
    "\n",
    "data_1['recencia'] = np.clip(data_1['recencia'], limite_inferior, limite_superior)"
   ]
  },
  {
   "cell_type": "code",
   "execution_count": 10,
   "metadata": {},
   "outputs": [
    {
     "data": {
      "text/plain": [
       "Text(0.5, 1.0, 'Caja y bigotes de la recencia de los clientes')"
      ]
     },
     "execution_count": 10,
     "metadata": {},
     "output_type": "execute_result"
    },
    {
     "data": {
      "image/png": "[encoded data removed]",
      "text/plain": [
       "<Figure size 1400x700 with 3 Axes>"
      ]
     },
     "metadata": {},
     "output_type": "display_data"
    }
   ],
   "source": [
    "fig = plt.figure(figsize=(14,7))\n",
    "\n",
    "# Caja y bigotes de la edad \n",
    "plt.subplot(1, 3, 1)\n",
    "box_1 = plt.boxplot(data_1['edad'])\n",
    "plt.title('Caja y bigotes de las edades de los clientes', fontsize=7, fontweight='bold')\n",
    "\n",
    "# Caja y bigotes del moto total de la última compra\n",
    "plt.subplot(1, 3, 2)\n",
    "plt.boxplot(data_1['monto_total'])\n",
    "plt.title('Caja y bigotes de la última compra de los clientes', fontsize=7, fontweight='bold')\n",
    "\n",
    "# Caja y bigotes del tiempo transcurrido en semanas desde la última compra\n",
    "plt.subplot(1, 3, 3)\n",
    "plt.boxplot(data_1['recencia'])\n",
    "plt.title('Caja y bigotes de la recencia de los clientes', fontsize=7, fontweight='bold')"
   ]
  },
  {
   "cell_type": "code",
   "execution_count": 16,
   "metadata": {},
   "outputs": [
    {
     "name": "stdout",
     "output_type": "stream",
     "text": [
      "Index(['Segmento', 'Compro 2019?', 'Compro 2020?', 'Monto Comprado 2019?',\n",
      "       'Nro Transacciones 2019', 'Monto Comprado 2020',\n",
      "       'Nro Transacciones 2020', 'Es Contactable', 'Ciudad de Residencia',\n",
      "       'Genero', 'Estado Civil', 'Cantidad Articulos',\n",
      "       'Frecuencia (Cantidad items comprados)',\n",
      "       'Monto - MARCA COTTON- B/quilla.', 'Monto - Brand Store Cucuta',\n",
      "       'Monto - MARCA COTTON- Bucaramanga', 'Monto - MARCA COTTON- Manizales',\n",
      "       'Monto - MARCA COTTON- Pereira', 'Monto - MARCA COTTON- Cartagena',\n",
      "       'Monto - MARCA COTTON- Pasto', 'Monto - MARCA COTTON- Cable Plaza',\n",
      "       'edad', 'monto_total', 'recencia'],\n",
      "      dtype='object')\n"
     ]
    }
   ],
   "source": [
    "# Se incluye los datos limpios a la base de datos\n",
    "data['edad'] = data_1['edad']\n",
    "data['monto_total'] = data_1['monto_total']\n",
    "data['recencia'] = data_1['recencia']\n",
    "\n",
    "# Se eliminas las variables originales (edad, monto total, y recencia)\n",
    "data.drop(columns=['Edad', 'Monto Total de ultima compra', 'Recencia (Tiempo transcurrido en semanas desde su ultima compra)'], axis=1, inplace=True)\n",
    "\n",
    "print(data.columns)"
   ]
  },
  {
   "cell_type": "code",
   "execution_count": 19,
   "metadata": {},
   "outputs": [],
   "source": [
    "data.columns = ['segmento', 'compra_2019', 'compra_2020', 'monto_2019', 'nro_2019', 'monto_2020', 'nro_2020', 'contactable', 'ciudad', 'genero', 'estado_civil', 'cantidad_articulos', 'frecuencia', 'monto_quilla', 'monto_cucuta', 'monto_bucara', 'monto_manizales', 'monto_pereira', 'monto_cartagena', 'monto_pasto', 'monto_clableplaza', 'edad', 'monto_total', 'recencia']\n",
    "\n",
    "# Exporto la base de datos\n",
    "nombre = 'data_clean.xlsx'\n",
    "data.to_excel(nombre, index=False)"
   ]
  },
  {
   "cell_type": "markdown",
   "metadata": {},
   "source": [
    "### ***Diferencias entre modelo probabilísticos y determinísticos***"
   ]
  },
  {
   "cell_type": "markdown",
   "metadata": {},
   "source": [
    "<p> Un modelo determinístico se fundamenta en relaciones precisas y predecibles, en contraste, un modelo probabilístico abarca la presencia de incertidumbre y aleatoriedad. En el caso de un modelo probabilístico, se emplea la inferencia estadística para evaluar eventos fuera de control, mientras que en un modelo determinístico, se llevan a cabo simulaciones. <p>\n",
    "\n",
    "<p> Para ilustrar esta diferencia, consideremos dos ejemplos. En un modelo determinístico, podríamos calcular la producción total de tomates en un invernadero a lo largo de un año, ya que tenemos un modelo que proporciona datos precisos sobre la cantidad y el tamaño de los frutos que cada planta producirá. Por otro lado, en un modelo probabilístico, podríamos estimar la probabilidad de que una persona desarrolle diabetes en función de variables como su edad, peso, presión arterial, nivel de actividad física, entre otros, reconociendo la naturaleza incierta de estos factores y su influencia en la enfermedad. <p>"
   ]
  },
  {
   "cell_type": "markdown",
   "metadata": {},
   "source": [
    "\n",
    "<p>Arsham, H. (2022) <em>Probabilistic Modeling Process: Decision Analysis</em>. https://home.ubalt.edu/ntsbarsh/business-stat/opre/SPANISHP.HTM#:~:text=En%20los%20modelos%20determin%C3%ADsticos%2C%20una,riesgo%20que%20cada%20decisi%C3%B3n%20acarrea<p>\n",
    "\n",
    "\n"
   ]
  }
 ],
 "metadata": {
  "kernelspec": {
   "display_name": "Python 3",
   "language": "python",
   "name": "python3"
  },
  "language_info": {
   "codemirror_mode": {
    "name": "ipython",
    "version": 3
   },
   "file_extension": ".py",
   "mimetype": "text/x-python",
   "name": "python",
   "nbconvert_exporter": "python",
   "pygments_lexer": "ipython3",
   "version": "3.11.1"
  },
  "orig_nbformat": 4
 },
 "nbformat": 4,
 "nbformat_minor": 2
}
